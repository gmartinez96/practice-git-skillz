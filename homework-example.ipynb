import pandas as pd
import numpy as np
import matplotplib.pyplot as plt
{
 "cells": [],
 "metadata": {},
 "nbformat": 4,
 "nbformat_minor": 2
}
